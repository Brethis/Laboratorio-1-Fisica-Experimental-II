{
 "cells": [
  {
   "cell_type": "code",
   "execution_count": 5,
   "metadata": {},
   "outputs": [
    {
     "name": "stdout",
     "output_type": "stream",
     "text": [
      "Defaulting to user installation because normal site-packages is not writeable\n",
      "Requirement already satisfied: uncertainties in ./.local/lib/python3.6/site-packages (3.1.7)\n",
      "Requirement already satisfied: future in ./.local/lib/python3.6/site-packages (from uncertainties) (1.0.0)\n",
      "\u001b[33mWARNING: You are using pip version 20.0.2; however, version 21.3.1 is available.\n",
      "You should consider upgrading via the '/usr/bin/python3 -m pip install --upgrade pip' command.\u001b[0m\n"
     ]
    }
   ],
   "source": [
    "!pip install uncertainties"
   ]
  },
  {
   "cell_type": "code",
   "execution_count": 8,
   "metadata": {},
   "outputs": [
    {
     "name": "stdout",
     "output_type": "stream",
     "text": [
      "[0.000625 0.000625 0.000625 0.000625]\n",
      "[0.000625 0.000625 0.000625 0.000625]\n",
      "[0.000625 0.000625 0.000625 0.000625]\n",
      "-------------------------------------------------\n",
      "datos:\n",
      "R0= 400\n",
      "m00= 5\n",
      "d20= 0.25\n",
      "y200= 5\n",
      "m01= 1\n",
      "d21= 0.25\n",
      "y201= 0\n",
      "m02= 2\n",
      "d22= 0.25\n",
      "y202= 2\n",
      "m03= 1\n",
      "d23= 0.25\n",
      "y203= 0\n",
      "-------------------------------------------------\n",
      "R1= 300\n",
      "m10= 4\n",
      "d20= 0.5\n",
      "y210= 3\n",
      "m11= 1\n",
      "d21= 0.5\n",
      "y211= 0\n",
      "m12= 2\n",
      "d22= 0.5\n",
      "y212= 2\n",
      "m13= 1\n",
      "d23= 0.5\n",
      "y213= 0\n",
      "-------------------------------------------------\n",
      "R2= 200\n",
      "m20= 1\n",
      "d20= 0.25\n",
      "y220= 0\n",
      "m21= 1\n",
      "d21= 0.25\n",
      "y221= 0\n",
      "m22= 1\n",
      "d22= 0.25\n",
      "y222= 0\n",
      "m23= 1\n",
      "d23= 0.25\n",
      "y223= 0\n",
      "-------------------------------------------------\n",
      "[0.000625   0.         0.000625   0.         0.000625   0.\n",
      " 0.00083333 0.         0.         0.         0.         0.        ]\n",
      "-------------------------------------------------\n"
     ]
    }
   ],
   "source": [
    "import numpy as np\n",
    "from uncertainties import ufloat\n",
    "\n",
    "#INTERFERENCIA 1 (2,3,4,5 RANURAS, MISMA d)\n",
    "\n",
    "d1=0.125 #mm\n",
    "R=np.array([400,300,200]) #mm\n",
    "\n",
    "#1RA MEDICION\n",
    "y40_1=np.array([4,4,4,4]) #mm\n",
    "\n",
    "#2DA MEDICION\n",
    "y30_1=np.array([3,3,3,3]) #mm\n",
    "\n",
    "#3RA MEDICION\n",
    "y20_1=np.array([2,2,2,2]) #mm\n",
    "\n",
    "\n",
    "#RESULTADOS 1\n",
    "longOnda40_1 = (d1/(R[0]*2))*y40_1\n",
    "print(longOnda40_1)\n",
    "longOnda30_1 = (d1/(R[1]*2))*y30_1\n",
    "print(longOnda30_1)\n",
    "longOnda20_1 = (d1/(R[2]*2))*y20_1\n",
    "print(longOnda20_1)\n",
    "\n",
    "\n",
    "print('-------------------------------------------------')\n",
    "\n",
    "\n",
    "\n",
    "#INTERFERENCIA (2 RANURAS DIFERENTES d)\n",
    "\n",
    "d2=np.array([0.250,0.5,0.250,0.5]) #mm\n",
    "R=np.array([400,300,200]) #mm\n",
    "y2=np.array([[5,0,2,0],[3,0,2,0],[0,0,0,0]]) #todos los 0 son de prueba\n",
    "m=np.array([[5,1,2,1],[4,1,2,1],[1,1,1,1]])  #todos los 1 son de prueba\n",
    "\n",
    "\n",
    "#TODAS LAS MEDICIONES ()\n",
    "\n",
    "longOnda40_2_Def=[]\n",
    "print('datos:')\n",
    "for i in range(3):\n",
    "    print(f'R{i}= {R[i]}')\n",
    "    for j in range(4):\n",
    "        print(f'm{i}{j}= {m[i][j]}')\n",
    "        print(f'd2{j}= {d2[i]}')\n",
    "        print(f'y2{i}{j}= {y2[i][j]}')\n",
    "\n",
    "        longOnda40_2=d2[j]*y2[i][j]/(m[i][j]*R[i])\n",
    "        longOnda40_2_Def= np.append(longOnda40_2_Def,longOnda40_2)\n",
    "        \n",
    "    print('-------------------------------------------------')\n",
    "print(longOnda40_2_Def)\n",
    "\n",
    "\n",
    "print('-------------------------------------------------')\n",
    "#DIFRACCION\n",
    "\n",
    "\n",
    "a=[0.02,0.04,0.08,0.16]\n",
    "R=[400,300,200]\n",
    "y3=[[10,5,2.5,1],[9,4,2,1.5],[5,2.5,1.5,0.5]]\n",
    "\n",
    "#for i in range(4):\n",
    " #   for j in range(3):\n",
    "  #      longOnda_3 = "
   ]
  },
  {
   "cell_type": "code",
   "execution_count": 6,
   "metadata": {},
   "outputs": [],
   "source": [
    "d2=np.array([0.250,0.5,0.25,0.5]) #mm\n",
    "R=np.array([400,300,200]) #mm\n",
    "y2=np.array([[5,2,2,3],[3,3,2,3],[2,3,3,4]])\n",
    "m=np.array([[5,2,2,2],[4,2,2,3],[2,2,2,3]])"
   ]
  },
  {
   "cell_type": "code",
   "execution_count": 5,
   "metadata": {},
   "outputs": [
    {
     "name": "stdout",
     "output_type": "stream",
     "text": [
      "2\n",
      "m00= 5\n",
      "m01= 2\n",
      "m02= 2\n",
      "m03= 2\n",
      "m10= 4\n",
      "m11= 2\n",
      "m12= 2\n",
      "m13= 3\n",
      "m20= 2\n",
      "m21= 2\n",
      "m22= 2\n",
      "m23= 3\n",
      "[0.000625   0.00125    0.000625   0.001875   0.000625   0.0025\n",
      " 0.00083333 0.00166667 0.00125    0.00375    0.001875   0.00333333]\n"
     ]
    }
   ],
   "source": [
    "print(m[1][2])\n",
    "lamb1=[]\n",
    "\n",
    "for i in range(3):\n",
    "    for j in range(4):\n",
    "        print(f'm{i}{j}= {m[i][j]}')\n",
    "        lamb= d2[j]*y2[i][j]/(m[i][j]*R[i])\n",
    "        lamb1 = np.append(lamb1,lamb)\n",
    "        \n",
    "print(np.array(lamb1))\n",
    "\n"
   ]
  },
  {
   "cell_type": "code",
   "execution_count": 16,
   "metadata": {},
   "outputs": [
    {
     "name": "stdout",
     "output_type": "stream",
     "text": [
      "[0.000625 0.000625 0.000625 0.000625]\n",
      "[0.000625 0.000625 0.000625 0.000625]\n",
      "[0.000625 0.000625 0.000625 0.000625]\n",
      "error longitud a 40cm 9.275842806215778e-05\n",
      "error longitud a 30cm 0.00011554990053604068\n",
      "error longitud a 20cm 0.0001640625\n"
     ]
    }
   ],
   "source": [
    "#Cálculo de error \n",
    "delta_y = 0.5 #mm\n",
    "delta_R = 0.5 #mm\n",
    "delta_d1 = 0.01 #mm\n",
    "#INTERFERENCIA 1 (2,3,4,5 RANURAS, MISMA d)\n",
    "\n",
    "d1=0.125 #mm\n",
    "R=np.array([400,300,200]) #mm\n",
    "\n",
    "#1RA MEDICION\n",
    "y40_1=np.array([4,4,4,4]) #mm\n",
    "\n",
    "#2DA MEDICION\n",
    "y30_1=np.array([3,3,3,3]) #mm\n",
    "\n",
    "#3RA MEDICION\n",
    "y20_1=np.array([2,2,2,2]) #mm\n",
    "\n",
    "\n",
    "#RESULTADOS 1\n",
    "longOnda40_1 = (d1/(R[0]*2))*y40_1\n",
    "print(longOnda40_1)\n",
    "longOnda30_1 = (d1/(R[1]*2))*y30_1\n",
    "print(longOnda30_1)\n",
    "longOnda20_1 = (d1/(R[2]*2))*y20_1\n",
    "print(longOnda20_1)\n",
    "\n",
    "\n",
    "#error de la longitud calculada por la interferencia (2,3,4,5)\n",
    "delta_Long_40 = np.sqrt((4/(2*400)*delta_d1)**2 + (4*d1/(2*400**2)*delta_R)**2 + (d1/(2*400)*delta_y)**2)\n",
    "print(f'error longitud a 40cm {delta_Long_40}')\n",
    "delta_Long_30 = np.sqrt((3/(2*300)*delta_d1)**2 + (3*d1/(2*300**2)*delta_R)**2 + (d1/(2*300)*delta_y)**2)\n",
    "print(f'error longitud a 30cm {delta_Long_30}')\n",
    "delta_Long_20 = np.sqrt((2/(2*200)*delta_d1)**2 + (2*d1/(2*200**2)*delta_R)**2 + (d1/(2*200)*delta_y)**2)\n",
    "print(f'error longitud a 20cm {delta_Long_20}')"
   ]
  },
  {
   "cell_type": "code",
   "execution_count": 87,
   "metadata": {},
   "outputs": [
    {
     "name": "stdout",
     "output_type": "stream",
     "text": [
      "La longitud de onda correspondiente a la medicion 1, calculada utilizando propagacion del error, es de:0.00063+/-0.00008\n",
      "La longitud de onda correspondiente a la medicion 2, calculada utilizando propagacion del error, es de:0.00063+/-0.00008\n",
      "La longitud de onda correspondiente a la medicion 3, calculada utilizando propagacion del error, es de:0.00063+/-0.00008\n",
      "La longitud de onda correspondiente a la medicion 4, calculada utilizando propagacion del error, es de:0.00063+/-0.00008\n",
      "La longitud de onda correspondiente a la medicion 5, calculada utilizando propagacion del error, es de:0.00063+/-0.00011\n",
      "La longitud de onda correspondiente a la medicion 6, calculada utilizando propagacion del error, es de:0.00063+/-0.00011\n",
      "La longitud de onda correspondiente a la medicion 7, calculada utilizando propagacion del error, es de:0.00063+/-0.00011\n",
      "La longitud de onda correspondiente a la medicion 8, calculada utilizando propagacion del error, es de:0.00063+/-0.00011\n",
      "La longitud de onda correspondiente a la medicion 9, calculada utilizando propagacion del error, es de:0.00063+/-0.00016\n",
      "La longitud de onda correspondiente a la medicion 10, calculada utilizando propagacion del error, es de:0.00063+/-0.00016\n",
      "La longitud de onda correspondiente a la medicion 11, calculada utilizando propagacion del error, es de:0.00063+/-0.00016\n",
      "La longitud de onda correspondiente a la medicion 12, calculada utilizando propagacion del error, es de:0.00063+/-0.00016\n"
     ]
    }
   ],
   "source": [
    "#INTERFERENCIA 1 (2,3,4,5 RANURAS, MISMA d)\n",
    "\n",
    "d1=ufloat(0.125,0.125*0.05) #mm\n",
    "R1=np.array([400,300,200]) #mm\n",
    "#m = 2 en todos\n",
    "\n",
    "y1=np.array([[4,4,4,4],[3,3,3,3],[2,2,2,2]]) #mm\n",
    "\n",
    "# Incertidumbres de las mediciones (los valores de d tienen un error del 5%)\n",
    "delta_y = 0.5\n",
    "delta_R = 0.5\n",
    "\n",
    "# Definición de las variables con sus incertidumbres\n",
    "\n",
    "R1_array = np.array([ufloat(400, delta_R), ufloat(300, delta_R), ufloat(200, delta_R)])\n",
    "y1_array = np.array([[ufloat(4, delta_y),ufloat(4, delta_y),ufloat(4, delta_y),ufloat(4, delta_y)],[ufloat(3, delta_y),ufloat(3, delta_y),ufloat(3, delta_y),ufloat(3, delta_y)],[ufloat(2, delta_y),ufloat(2, delta_y),ufloat(2, delta_y),ufloat(2, delta_y)]])\n",
    "\n",
    "\n",
    "longOnda_1_Def_u=[]\n",
    "\n",
    "for i in range(3):\n",
    "    for j in range(4):\n",
    "        longOnda_1=d1*y1_array[i][j]/(2*R1_array[i])\n",
    "        longOnda_1_Def_u= np.append(longOnda_1_Def_u,longOnda_1)\n",
    "\n",
    "for k, longitud_onda in enumerate(longOnda_1_Def_u):\n",
    "    print(f'La longitud de onda correspondiente a la medicion {k+1}, calculada utilizando propagacion del error, es de:{longitud_onda}')"
   ]
  },
  {
   "cell_type": "code",
   "execution_count": 82,
   "metadata": {},
   "outputs": [
    {
     "name": "stdout",
     "output_type": "stream",
     "text": [
      "La longitud de onda correspondiente a la medicion 1, calculada utilizando propagacion del error, es de:0.00063+/-0.00007\n",
      "La longitud de onda correspondiente a la medicion 2, calculada utilizando propagacion del error, es de:0.0000+/-0.0006\n",
      "La longitud de onda correspondiente a la medicion 3, calculada utilizando propagacion del error, es de:0.00063+/-0.00016\n",
      "La longitud de onda correspondiente a la medicion 4, calculada utilizando propagacion del error, es de:0.0000+/-0.0006\n",
      "La longitud de onda correspondiente a la medicion 5, calculada utilizando propagacion del error, es de:0.00063+/-0.00011\n",
      "La longitud de onda correspondiente a la medicion 6, calculada utilizando propagacion del error, es de:0.0000+/-0.0008\n",
      "La longitud de onda correspondiente a la medicion 7, calculada utilizando propagacion del error, es de:0.00083+/-0.00021\n",
      "La longitud de onda correspondiente a la medicion 8, calculada utilizando propagacion del error, es de:0.0000+/-0.0008\n",
      "La longitud de onda correspondiente a la medicion 9, calculada utilizando propagacion del error, es de:0.0+/-0\n",
      "La longitud de onda correspondiente a la medicion 10, calculada utilizando propagacion del error, es de:0.0+/-0\n",
      "La longitud de onda correspondiente a la medicion 11, calculada utilizando propagacion del error, es de:0.0+/-0\n",
      "La longitud de onda correspondiente a la medicion 12, calculada utilizando propagacion del error, es de:0.0+/-0\n"
     ]
    }
   ],
   "source": [
    "#INTERFERENCIA 2 (2,2,2,2 RANURAS, DISTINTA d)\n",
    "\n",
    "d2=np.array([0.250,0.5,0.250,0.5]) #mm\n",
    "#R=np.array([400,300,200]) #mm\n",
    "#y2=np.array([[5,0,2,0],[3,0,2,0],[0,0,0,0]]) #todos los 0 son de prueba\n",
    "#m=np.array([[5,1,2,1],[4,1,2,1],[1,1,1,1]])  #todos los 1 son de prueba\n",
    "\n",
    "# Incertidumbres de las mediciones (los valores de d tienen un error del 5%)\n",
    "delta_y = 0.5\n",
    "delta_R = 0.5\n",
    "\n",
    "# Definición de las variables con sus incertidumbres\n",
    "d2_array = []\n",
    "\n",
    "for g in range(4):\n",
    "    uf = ufloat(d2[g], d2[g]*0.05)\n",
    "    d2_array = np.append(d2_array, uf)\n",
    "\n",
    "R2_array = np.array([ufloat(400, delta_R), ufloat(300, delta_R), ufloat(200, delta_R)])\n",
    "y2_array = np.array([[ufloat(5, delta_y),ufloat(0, delta_y),ufloat(2, delta_y),ufloat(0, delta_y)],[ufloat(3, delta_y),ufloat(0, delta_y),ufloat(2, delta_y),ufloat(0, delta_y)],[0,0,0,0]])\n",
    "m2_array = np.array([[5,1,2,1],[4,1,2,1],[1,1,1,1]])\n",
    "\n",
    "longOnda_2_Def_u=[]\n",
    "\n",
    "for i in range(3):\n",
    "    for j in range(4):\n",
    "        longOnda_2=d2_array[j]*y2_array[i][j]/(m2_array[i][j]*R2_array[i])\n",
    "        longOnda_2_Def_u= np.append(longOnda_2_Def_u,longOnda_2)\n",
    "\n",
    "for k, longitud_onda in enumerate(longOnda_2_Def_u):\n",
    "    print(f'La longitud de onda correspondiente a la medicion {k+1}, calculada utilizando propagacion del error, es de:{longitud_onda}')"
   ]
  },
  {
   "cell_type": "code",
   "execution_count": 76,
   "metadata": {
    "scrolled": true
   },
   "outputs": [
    {
     "name": "stdout",
     "output_type": "stream",
     "text": [
      "La longitud de onda correspondiente a la medicion 1, calculada utilizando propagacion del error, es de:0.00063+/-0.00004\n",
      "La longitud de onda correspondiente a la medicion 2, calculada utilizando propagacion del error, es de:0.00060+/-0.00006\n",
      "La longitud de onda correspondiente a la medicion 3, calculada utilizando propagacion del error, es de:0.00060+/-0.00010\n",
      "La longitud de onda correspondiente a la medicion 4, calculada utilizando propagacion del error, es de:0.00060+/-0.00020\n",
      "La longitud de onda correspondiente a la medicion 5, calculada utilizando propagacion del error, es de:0.00060+/-0.00005\n",
      "La longitud de onda correspondiente a la medicion 6, calculada utilizando propagacion del error, es de:0.00060+/-0.00007\n",
      "La longitud de onda correspondiente a la medicion 7, calculada utilizando propagacion del error, es de:0.00067+/-0.00014\n",
      "La longitud de onda correspondiente a la medicion 8, calculada utilizando propagacion del error, es de:0.00080+/-0.00027\n",
      "La longitud de onda correspondiente a la medicion 9, calculada utilizando propagacion del error, es de:0.00060+/-0.00006\n",
      "La longitud de onda correspondiente a la medicion 10, calculada utilizando propagacion del error, es de:0.00060+/-0.00011\n",
      "La longitud de onda correspondiente a la medicion 11, calculada utilizando propagacion del error, es de:0.00060+/-0.00020\n",
      "La longitud de onda correspondiente a la medicion 12, calculada utilizando propagacion del error, es de:0.0008+/-0.0004\n"
     ]
    }
   ],
   "source": [
    "#DIFRACCION\n",
    "\n",
    "#MEDICIONES (m siempre es 1)\n",
    "a=[0.02,0.04,0.08,0.16]\n",
    "R3=[400,300,200]\n",
    "#y3=np.array([[10,5,2.5,1],[9,4,2,1.5],[5,2.5,1.5,0.5]])\n",
    "\n",
    "y3 = np.array([[12.5,6,3,1.5],[9,4.5,2.5,1.5],[6,3,1.5,1]]) #mitad de la distancia entre los primeros minimos por izquierda y derecha\n",
    "#ERRORES (los valores de a tienen un error del 5%)\n",
    "delta_y3 = 0.5\n",
    "delta_R3 = 5\n",
    "\n",
    "a_array = []\n",
    "R3_array = []\n",
    "longOnda_3_Def_u = []\n",
    "\n",
    "for t in range(4):\n",
    "    uf_a = ufloat(a[t], a[t]*0.05)\n",
    "    a_array = np.append(a_array, uf_a)\n",
    "    \n",
    "for n in range(3):    \n",
    "    uf_R = ufloat(R3[n], delta_R3)\n",
    "    R3_array = np.append(R3_array, uf_R)\n",
    "\n",
    "y3_ufloat = np.zeros(y3.shape, dtype=object)\n",
    "for i in range(y3.shape[0]):\n",
    "    for j in range(y3.shape[1]):\n",
    "        y3_ufloat[i, j] = ufloat(y3[i, j], delta_y3)    \n",
    "    \n",
    "for w in range(3):\n",
    "    for v in range(4):\n",
    "        longOnda_3=a_array[v]*y3_ufloat[w][v]/R3_array[w]\n",
    "        longOnda_3_Def_u= np.append(longOnda_3_Def_u,longOnda_3)\n",
    "\n",
    "\n",
    "for k, longitud_onda in enumerate(longOnda_3_Def_u):\n",
    "    print(f'La longitud de onda correspondiente a la medicion {k+1}, calculada utilizando propagacion del error, es de:{longitud_onda}')"
   ]
  },
  {
   "cell_type": "code",
   "execution_count": 90,
   "metadata": {},
   "outputs": [
    {
     "name": "stdout",
     "output_type": "stream",
     "text": [
      "0.00625\n"
     ]
    }
   ],
   "source": [
    "print(0.125*0.05)"
   ]
  }
 ],
 "metadata": {
  "kernelspec": {
   "display_name": "Python 3",
   "language": "python",
   "name": "python3"
  },
  "language_info": {
   "codemirror_mode": {
    "name": "ipython",
    "version": 3
   },
   "file_extension": ".py",
   "mimetype": "text/x-python",
   "name": "python",
   "nbconvert_exporter": "python",
   "pygments_lexer": "ipython3",
   "version": "3.6.9"
  }
 },
 "nbformat": 4,
 "nbformat_minor": 4
}
