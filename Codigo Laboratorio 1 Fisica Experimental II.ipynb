{
 "cells": [
  {
   "cell_type": "code",
   "execution_count": 1,
   "metadata": {},
   "outputs": [],
   "source": [
    "import numpy as np\n",
    "from uncertainties import ufloat\n",
    "import sigfig\n",
    "\n",
    "# Media Ponderada\n",
    "# valores y sus incertidumbres (ejemplo)\n",
    "def media_ponderada(lambdas,errores):\n",
    "    # pesos = 1/σ²\n",
    "    pesos = 1 / errores**2\n",
    "\n",
    "    # media ponderada y su incertidumbre\n",
    "    lambda_media = np.sum(lambdas * pesos) / np.sum(pesos)\n",
    "    lambda_error = np.sqrt(1 / np.sum(pesos))\n",
    "\n",
    "    print(f\"Media ponderada = {sigfig.round(lambda_media,lambda_error)} mm\")"
   ]
  },
  {
   "cell_type": "code",
   "execution_count": 7,
   "metadata": {},
   "outputs": [
    {
     "name": "stdout",
     "output_type": "stream",
     "text": [
      "La longitud de onda correspondiente a la medicion 1, calculada utilizando propagacion del error, es de:0.00063+/-0.00008\n",
      "La longitud de onda correspondiente a la medicion 2, calculada utilizando propagacion del error, es de:0.00063+/-0.00008\n",
      "La longitud de onda correspondiente a la medicion 3, calculada utilizando propagacion del error, es de:0.00063+/-0.00008\n",
      "La longitud de onda correspondiente a la medicion 4, calculada utilizando propagacion del error, es de:0.00063+/-0.00008\n",
      "La longitud de onda correspondiente a la medicion 5, calculada utilizando propagacion del error, es de:0.00063+/-0.00011\n",
      "La longitud de onda correspondiente a la medicion 6, calculada utilizando propagacion del error, es de:0.00063+/-0.00011\n",
      "La longitud de onda correspondiente a la medicion 7, calculada utilizando propagacion del error, es de:0.00063+/-0.00011\n",
      "La longitud de onda correspondiente a la medicion 8, calculada utilizando propagacion del error, es de:0.00063+/-0.00011\n",
      "La longitud de onda correspondiente a la medicion 9, calculada utilizando propagacion del error, es de:0.00063+/-0.00016\n",
      "La longitud de onda correspondiente a la medicion 10, calculada utilizando propagacion del error, es de:0.00063+/-0.00016\n",
      "La longitud de onda correspondiente a la medicion 11, calculada utilizando propagacion del error, es de:0.00063+/-0.00016\n",
      "La longitud de onda correspondiente a la medicion 12, calculada utilizando propagacion del error, es de:0.00063+/-0.00016\n",
      "Media ponderada = 0.00063 ± 0.00003 mm\n"
     ]
    }
   ],
   "source": [
    "#INTERFERENCIA 1 (2,3,4,5 RANURAS, MISMA d)\n",
    "\n",
    "d1=ufloat(0.125,0.125*0.05) #mm\n",
    "R1=np.array([400,300,200]) #mm\n",
    "#m = 2 en todos\n",
    "\n",
    "y1=np.array([[4,4,4,4],[3,3,3,3],[2,2,2,2]]) #mm\n",
    "\n",
    "# Incertidumbres de las mediciones (los valores de d tienen un error del 5%)\n",
    "delta_y = 0.5\n",
    "delta_R = 0.5\n",
    "\n",
    "# Definición de las variables con sus incertidumbres\n",
    "\n",
    "R1_array = np.array([ufloat(400, delta_R), ufloat(300, delta_R), ufloat(200, delta_R)])\n",
    "y1_array = np.array([[ufloat(4, delta_y),ufloat(4, delta_y),ufloat(4, delta_y),ufloat(4, delta_y)],[ufloat(3, delta_y),ufloat(3, delta_y),ufloat(3, delta_y),ufloat(3, delta_y)],[ufloat(2, delta_y),ufloat(2, delta_y),ufloat(2, delta_y),ufloat(2, delta_y)]])\n",
    "\n",
    "\n",
    "longOnda_1_Def_u=[]\n",
    "\n",
    "for i in range(3):\n",
    "    for j in range(4):\n",
    "        longOnda_1=d1*y1_array[i][j]/(2*R1_array[i])\n",
    "        longOnda_1_Def_u= np.append(longOnda_1_Def_u,longOnda_1)\n",
    "\n",
    "for k, longitud_onda in enumerate(longOnda_1_Def_u):\n",
    "    print(f'La longitud de onda correspondiente a la medicion {k+1}, calculada utilizando propagacion del error, es de:{longitud_onda}')\n",
    "    \n",
    "lambda_interferencia = np.array([0.000625,0.000625,0.000625,0.000625,0.000625,0.000625,0.000625,0.000625,0.000625,0.000625,\n",
    "                                 0.000625,0.000625]) \n",
    "errores_interferencia = np.array([8.414682689538863e-05,8.414682689538863e-05,8.414682689538863e-05,8.414682689538863e-05,\n",
    "                                  0.00011554990053604068,0.00011554990053604068,0.00011554990053604068,0.00011554990053604068,\n",
    "                                  0.0001593520204021587,0.0001593520204021587,0.0001593520204021587,0.0001593520204021587])\n",
    "\n",
    "media_ponderada(lambda_interferencia, errores_interferencia)"
   ]
  },
  {
   "cell_type": "code",
   "execution_count": 6,
   "metadata": {
    "scrolled": true
   },
   "outputs": [
    {
     "name": "stdout",
     "output_type": "stream",
     "text": [
      "La longitud de onda correspondiente a la medicion 1, calculada utilizando propagacion del error, es de:0.00063+/-0.00007\n",
      "La longitud de onda correspondiente a la medicion 2, calculada utilizando propagacion del error, es de:0.0000+/-0.0006\n",
      "La longitud de onda correspondiente a la medicion 3, calculada utilizando propagacion del error, es de:0.00063+/-0.00016\n",
      "La longitud de onda correspondiente a la medicion 4, calculada utilizando propagacion del error, es de:0.0000+/-0.0006\n",
      "La longitud de onda correspondiente a la medicion 5, calculada utilizando propagacion del error, es de:0.00063+/-0.00011\n",
      "La longitud de onda correspondiente a la medicion 6, calculada utilizando propagacion del error, es de:0.0000+/-0.0008\n",
      "La longitud de onda correspondiente a la medicion 7, calculada utilizando propagacion del error, es de:0.00083+/-0.00021\n",
      "La longitud de onda correspondiente a la medicion 8, calculada utilizando propagacion del error, es de:0.0000+/-0.0008\n",
      "La longitud de onda correspondiente a la medicion 9, calculada utilizando propagacion del error, es de:0.0+/-0\n",
      "La longitud de onda correspondiente a la medicion 10, calculada utilizando propagacion del error, es de:0.0+/-0\n",
      "La longitud de onda correspondiente a la medicion 11, calculada utilizando propagacion del error, es de:0.0+/-0\n",
      "La longitud de onda correspondiente a la medicion 12, calculada utilizando propagacion del error, es de:0.0+/-0\n"
     ]
    }
   ],
   "source": [
    "#INTERFERENCIA 2 (2,2,2,2 RANURAS, DISTINTA d)\n",
    "\n",
    "d2=np.array([0.250,0.5,0.250,0.5]) #mm\n",
    "\n",
    "# Incertidumbres de las mediciones (los valores de d tienen un error del 5%)\n",
    "delta_y = 0.5\n",
    "delta_R = 0.5\n",
    "\n",
    "# Definición de las variables con sus incertidumbres\n",
    "d2_array = []\n",
    "\n",
    "for g in range(4):\n",
    "    uf = ufloat(d2[g], d2[g]*0.05)\n",
    "    d2_array = np.append(d2_array, uf)\n",
    "\n",
    "R2_array = np.array([ufloat(400, delta_R), ufloat(300, delta_R), ufloat(200, delta_R)])\n",
    "y2_array = np.array([[ufloat(5, delta_y),ufloat(0, delta_y),ufloat(2, delta_y),ufloat(0, delta_y)],[ufloat(3, delta_y),ufloat(0, delta_y),ufloat(2, delta_y),ufloat(0, delta_y)],[0,0,0,0]])\n",
    "m2_array = np.array([[5,1,2,1],[4,1,2,1],[1,1,1,1]])\n",
    "\n",
    "longOnda_2_Def_u=[]\n",
    "\n",
    "for i in range(3):\n",
    "    for j in range(4):\n",
    "        longOnda_2=d2_array[j]*y2_array[i][j]/(m2_array[i][j]*R2_array[i])\n",
    "        longOnda_2_Def_u= np.append(longOnda_2_Def_u,longOnda_2)\n",
    "\n",
    "for k, longitud_onda in enumerate(longOnda_2_Def_u):\n",
    "    print(f'La longitud de onda correspondiente a la medicion {k+1}, calculada utilizando propagacion del error, es de:{longitud_onda}')"
   ]
  },
  {
   "cell_type": "code",
   "execution_count": 5,
   "metadata": {
    "scrolled": true
   },
   "outputs": [
    {
     "name": "stdout",
     "output_type": "stream",
     "text": [
      "La longitud de onda correspondiente a la medicion 1, calculada utilizando propagacion del error, es de:0.00063+/-0.00004\n",
      "La longitud de onda correspondiente a la medicion 2, calculada utilizando propagacion del error, es de:0.00060+/-0.00006\n",
      "La longitud de onda correspondiente a la medicion 3, calculada utilizando propagacion del error, es de:0.00060+/-0.00010\n",
      "La longitud de onda correspondiente a la medicion 4, calculada utilizando propagacion del error, es de:0.00060+/-0.00020\n",
      "La longitud de onda correspondiente a la medicion 5, calculada utilizando propagacion del error, es de:0.00060+/-0.00005\n",
      "La longitud de onda correspondiente a la medicion 6, calculada utilizando propagacion del error, es de:0.00060+/-0.00007\n",
      "La longitud de onda correspondiente a la medicion 7, calculada utilizando propagacion del error, es de:0.00067+/-0.00014\n",
      "La longitud de onda correspondiente a la medicion 8, calculada utilizando propagacion del error, es de:0.00080+/-0.00027\n",
      "La longitud de onda correspondiente a la medicion 9, calculada utilizando propagacion del error, es de:0.00060+/-0.00006\n",
      "La longitud de onda correspondiente a la medicion 10, calculada utilizando propagacion del error, es de:0.00060+/-0.00011\n",
      "La longitud de onda correspondiente a la medicion 11, calculada utilizando propagacion del error, es de:0.00060+/-0.00020\n",
      "La longitud de onda correspondiente a la medicion 12, calculada utilizando propagacion del error, es de:0.0008+/-0.0004\n",
      "Media ponderada = 0.00061 ± 0.00002 mm\n"
     ]
    }
   ],
   "source": [
    "#DIFRACCION\n",
    "\n",
    "#MEDICIONES (m siempre es 1)\n",
    "a=[0.02,0.04,0.08,0.16]\n",
    "R3=[400,300,200]\n",
    "y3 = np.array([[12.5,6,3,1.5],[9,4.5,2.5,1.5],[6,3,1.5,1]])\n",
    "#ERRORES (los valores de a tienen un error del 5%)\n",
    "delta_y3 = 0.5\n",
    "delta_R3 = 5\n",
    "\n",
    "a_array = []\n",
    "R3_array = []\n",
    "longOnda_3_Def_u = []\n",
    "\n",
    "for t in range(4):\n",
    "    uf_a = ufloat(a[t], a[t]*0.05)\n",
    "    a_array = np.append(a_array, uf_a)\n",
    "    \n",
    "for n in range(3):    \n",
    "    uf_R = ufloat(R3[n], delta_R3)\n",
    "    R3_array = np.append(R3_array, uf_R)\n",
    "\n",
    "y3_ufloat = np.zeros(y3.shape, dtype=object)\n",
    "for i in range(y3.shape[0]):\n",
    "    for j in range(y3.shape[1]):\n",
    "        y3_ufloat[i, j] = ufloat(y3[i, j], delta_y3)    \n",
    "    \n",
    "for w in range(3):\n",
    "    for v in range(4):\n",
    "        longOnda_3=a_array[v]*y3_ufloat[w][v]/R3_array[w]\n",
    "        longOnda_3_Def_u= np.append(longOnda_3_Def_u,longOnda_3)\n",
    "\n",
    "\n",
    "for k, longitud_onda in enumerate(longOnda_3_Def_u):\n",
    "   print(f'La longitud de onda correspondiente a la medicion {k+1}, calculada utilizando propagacion del error, es de:{longitud_onda}')\n",
    "\n",
    "longitudes_difracción = np.array([0.000625,0.0006,0.0006,0.0006,0.0006,0.0006,\n",
    "                                 0.0006666666666666668,0.0007999999999999999,\n",
    "                                 0.0006,0.0006,0.0006,0.0008])\n",
    "errores_difracción = np.array([4.0027151429529684e-05,5.831434214667949e-05,\n",
    "                              0.00010440575894077874,0.00020223887484853155,\n",
    "                              4.485656151680723e-05,7.311254642292557e-05,0.00013744134551433248,\n",
    "                              0.00026965327531644945,5.83288093483829e-05,0.00010441384007879414,\n",
    "                              0.0002022430468520488,0.000402])\n",
    "\n",
    "media_ponderada(longitudes_difracción,errores_difracción)\n"
   ]
  }
 ],
 "metadata": {
  "kernelspec": {
   "display_name": "Python 3",
   "language": "python",
   "name": "python3"
  },
  "language_info": {
   "codemirror_mode": {
    "name": "ipython",
    "version": 3
   },
   "file_extension": ".py",
   "mimetype": "text/x-python",
   "name": "python",
   "nbconvert_exporter": "python",
   "pygments_lexer": "ipython3",
   "version": "3.6.9"
  }
 },
 "nbformat": 4,
 "nbformat_minor": 4
}
